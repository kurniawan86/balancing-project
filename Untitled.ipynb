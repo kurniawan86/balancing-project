{
 "cells": [
  {
   "cell_type": "code",
   "execution_count": 7,
   "metadata": {},
   "outputs": [
    {
     "name": "stdout",
     "output_type": "stream",
     "text": [
      "Data Artery Clustered \n",
      " [[2.800e-01 2.620e+01 7.080e+00 ... 4.328e+01 9.000e+01 1.000e+00]\n",
      " [3.300e-01 0.000e+00 1.030e+00 ... 1.630e+00 8.000e+01 0.000e+00]\n",
      " [3.300e-01 0.000e+00 2.000e-02 ... 8.200e-01 8.000e+01 0.000e+00]\n",
      " ...\n",
      " [3.500e-01 2.000e-01 6.000e-01 ... 1.070e+00 8.000e+01 1.000e+00]\n",
      " [3.500e-01 9.000e-01 1.570e+00 ... 3.170e+00 8.000e+01 1.000e+00]\n",
      " [0.000e+00 2.436e+00 2.500e+00 ... 5.436e+00 7.000e+01 1.000e+00]] \n",
      "\n",
      "Data Artery Score \n",
      " [[2 4 2 ... 2 5 1]\n",
      " [2 1 1 ... 1 4 2]\n",
      " [2 1 1 ... 1 4 2]\n",
      " ...\n",
      " [2 1 1 ... 1 4 1]\n",
      " [2 1 1 ... 1 4 1]\n",
      " [1 1 1 ... 2 4 1]] \n",
      "\n"
     ]
    }
   ],
   "source": [
    "run second.py"
   ]
  },
  {
   "cell_type": "code",
   "execution_count": 6,
   "metadata": {},
   "outputs": [
    {
     "ename": "NameError",
     "evalue": "name 'output' is not defined",
     "output_type": "error",
     "traceback": [
      "\u001b[1;31m---------------------------------------------------------------------------\u001b[0m",
      "\u001b[1;31mNameError\u001b[0m                                 Traceback (most recent call last)",
      "\u001b[1;32m<ipython-input-6-61353e8b2d5a>\u001b[0m in \u001b[0;36m<module>\u001b[1;34m\u001b[0m\n\u001b[1;32m----> 1\u001b[1;33m \u001b[0moutput\u001b[0m\u001b[1;33m\u001b[0m\u001b[1;33m\u001b[0m\u001b[0m\n\u001b[0m",
      "\u001b[1;31mNameError\u001b[0m: name 'output' is not defined"
     ]
    }
   ],
   "source": [
    "output"
   ]
  },
  {
   "cell_type": "code",
   "execution_count": 9,
   "metadata": {},
   "outputs": [],
   "source": [
    "run second.py"
   ]
  },
  {
   "cell_type": "code",
   "execution_count": 11,
   "metadata": {},
   "outputs": [
    {
     "name": "stdout",
     "output_type": "stream",
     "text": [
      "Data Artery Clustered \n",
      " [[2.800e-01 2.620e+01 7.080e+00 ... 4.328e+01 9.000e+01 1.000e+00]\n",
      " [3.300e-01 0.000e+00 1.030e+00 ... 1.630e+00 8.000e+01 0.000e+00]\n",
      " [3.300e-01 0.000e+00 2.000e-02 ... 8.200e-01 8.000e+01 0.000e+00]\n",
      " ...\n",
      " [3.500e-01 2.000e-01 6.000e-01 ... 1.070e+00 8.000e+01 1.000e+00]\n",
      " [3.500e-01 9.000e-01 1.570e+00 ... 3.170e+00 8.000e+01 1.000e+00]\n",
      " [0.000e+00 2.436e+00 2.500e+00 ... 5.436e+00 7.000e+01 1.000e+00]] \n",
      "\n",
      "Data Artery Score \n",
      " [[2 4 2 ... 2 5 1]\n",
      " [2 1 1 ... 1 4 2]\n",
      " [2 1 1 ... 1 4 2]\n",
      " ...\n",
      " [2 1 1 ... 1 4 1]\n",
      " [2 1 1 ... 1 4 1]\n",
      " [1 1 1 ... 2 4 1]] \n",
      "\n"
     ]
    }
   ],
   "source": [
    "obj=classArteryMultiply()"
   ]
  },
  {
   "cell_type": "code",
   "execution_count": 12,
   "metadata": {},
   "outputs": [
    {
     "name": "stdout",
     "output_type": "stream",
     "text": [
      "Data Artery Clustered \n",
      " [[2.800e-01 2.620e+01 7.080e+00 ... 4.328e+01 9.000e+01 1.000e+00]\n",
      " [3.300e-01 0.000e+00 1.030e+00 ... 1.630e+00 8.000e+01 0.000e+00]\n",
      " [3.300e-01 0.000e+00 2.000e-02 ... 8.200e-01 8.000e+01 0.000e+00]\n",
      " ...\n",
      " [3.500e-01 2.000e-01 6.000e-01 ... 1.070e+00 8.000e+01 1.000e+00]\n",
      " [3.500e-01 9.000e-01 1.570e+00 ... 3.170e+00 8.000e+01 1.000e+00]\n",
      " [0.000e+00 2.436e+00 2.500e+00 ... 5.436e+00 7.000e+01 1.000e+00]] \n",
      "\n",
      "Data Artery Score \n",
      " [[2 4 2 ... 2 5 1]\n",
      " [2 1 1 ... 1 4 2]\n",
      " [2 1 1 ... 1 4 2]\n",
      " ...\n",
      " [2 1 1 ... 1 4 1]\n",
      " [2 1 1 ... 1 4 1]\n",
      " [1 1 1 ... 2 4 1]] \n",
      "\n"
     ]
    }
   ],
   "source": [
    "obj.output()"
   ]
  },
  {
   "cell_type": "code",
   "execution_count": 17,
   "metadata": {},
   "outputs": [
    {
     "ename": "AttributeError",
     "evalue": "'classArteryMultiply' object has no attribute 'calArteryMultiply'",
     "output_type": "error",
     "traceback": [
      "\u001b[1;31m---------------------------------------------------------------------------\u001b[0m",
      "\u001b[1;31mAttributeError\u001b[0m                            Traceback (most recent call last)",
      "\u001b[1;32m<ipython-input-17-77ba3cfd730a>\u001b[0m in \u001b[0;36m<module>\u001b[1;34m\u001b[0m\n\u001b[1;32m----> 1\u001b[1;33m \u001b[0mobj\u001b[0m\u001b[1;33m.\u001b[0m\u001b[0mcalArteryMultiply\u001b[0m\u001b[1;33m(\u001b[0m\u001b[1;33m)\u001b[0m\u001b[1;33m\u001b[0m\u001b[1;33m\u001b[0m\u001b[0m\n\u001b[0m",
      "\u001b[1;31mAttributeError\u001b[0m: 'classArteryMultiply' object has no attribute 'calArteryMultiply'"
     ]
    }
   ],
   "source": [
    "obj.calArteryMultiply()"
   ]
  },
  {
   "cell_type": "code",
   "execution_count": 18,
   "metadata": {},
   "outputs": [
    {
     "name": "stdout",
     "output_type": "stream",
     "text": [
      "Data Artery Clustered \n",
      " [[2.800e-01 2.620e+01 7.080e+00 ... 4.328e+01 9.000e+01 1.000e+00]\n",
      " [3.300e-01 0.000e+00 1.030e+00 ... 1.630e+00 8.000e+01 0.000e+00]\n",
      " [3.300e-01 0.000e+00 2.000e-02 ... 8.200e-01 8.000e+01 0.000e+00]\n",
      " ...\n",
      " [3.500e-01 2.000e-01 6.000e-01 ... 1.070e+00 8.000e+01 1.000e+00]\n",
      " [3.500e-01 9.000e-01 1.570e+00 ... 3.170e+00 8.000e+01 1.000e+00]\n",
      " [0.000e+00 2.436e+00 2.500e+00 ... 5.436e+00 7.000e+01 1.000e+00]] \n",
      "\n",
      "Data Artery Score \n",
      " [[2 4 2 ... 2 5 1]\n",
      " [2 1 1 ... 1 4 2]\n",
      " [2 1 1 ... 1 4 2]\n",
      " ...\n",
      " [2 1 1 ... 1 4 1]\n",
      " [2 1 1 ... 1 4 1]\n",
      " [1 1 1 ... 2 4 1]] \n",
      "\n",
      "\n",
      "180 14\n",
      "[[5.6000e-01 1.0480e+02 1.4160e+01 ... 8.6560e+01 4.5000e+02 1.0000e+00]\n",
      " [6.6000e-01 0.0000e+00 1.0300e+00 ... 1.6300e+00 3.2000e+02 0.0000e+00]\n",
      " [6.6000e-01 0.0000e+00 2.0000e-02 ... 8.2000e-01 3.2000e+02 0.0000e+00]\n",
      " ...\n",
      " [7.0000e-01 2.0000e-01 6.0000e-01 ... 1.0700e+00 3.2000e+02 1.0000e+00]\n",
      " [7.0000e-01 9.0000e-01 1.5700e+00 ... 3.1700e+00 3.2000e+02 1.0000e+00]\n",
      " [0.0000e+00 2.4360e+00 2.5000e+00 ... 1.0872e+01 2.8000e+02 1.0000e+00]]\n"
     ]
    }
   ],
   "source": [
    "run second.py"
   ]
  },
  {
   "cell_type": "code",
   "execution_count": 26,
   "metadata": {},
   "outputs": [
    {
     "name": "stdout",
     "output_type": "stream",
     "text": [
      "Data Artery Clustered \n",
      " [[2.800e-01 2.620e+01 7.080e+00 ... 4.328e+01 9.000e+01 1.000e+00]\n",
      " [3.300e-01 0.000e+00 1.030e+00 ... 1.630e+00 8.000e+01 0.000e+00]\n",
      " [3.300e-01 0.000e+00 2.000e-02 ... 8.200e-01 8.000e+01 0.000e+00]\n",
      " ...\n",
      " [3.500e-01 2.000e-01 6.000e-01 ... 1.070e+00 8.000e+01 1.000e+00]\n",
      " [3.500e-01 9.000e-01 1.570e+00 ... 3.170e+00 8.000e+01 1.000e+00]\n",
      " [0.000e+00 2.436e+00 2.500e+00 ... 5.436e+00 7.000e+01 1.000e+00]] \n",
      "\n",
      "Data Artery Score \n",
      " [[2 4 2 ... 2 5 1]\n",
      " [2 1 1 ... 1 4 2]\n",
      " [2 1 1 ... 1 4 2]\n",
      " ...\n",
      " [2 1 1 ... 1 4 1]\n",
      " [2 1 1 ... 1 4 1]\n",
      " [1 1 1 ... 2 4 1]] \n",
      "\n",
      "\n"
     ]
    }
   ],
   "source": [
    "ob=classMultiply()"
   ]
  },
  {
   "cell_type": "code",
   "execution_count": 25,
   "metadata": {},
   "outputs": [
    {
     "ename": "AttributeError",
     "evalue": "'classArteryMultiply' object has no attribute 'calArteryMultiply'",
     "output_type": "error",
     "traceback": [
      "\u001b[1;31m---------------------------------------------------------------------------\u001b[0m",
      "\u001b[1;31mAttributeError\u001b[0m                            Traceback (most recent call last)",
      "\u001b[1;32m<ipython-input-25-77ba3cfd730a>\u001b[0m in \u001b[0;36m<module>\u001b[1;34m\u001b[0m\n\u001b[1;32m----> 1\u001b[1;33m \u001b[0mobj\u001b[0m\u001b[1;33m.\u001b[0m\u001b[0mcalArteryMultiply\u001b[0m\u001b[1;33m(\u001b[0m\u001b[1;33m)\u001b[0m\u001b[1;33m\u001b[0m\u001b[1;33m\u001b[0m\u001b[0m\n\u001b[0m",
      "\u001b[1;31mAttributeError\u001b[0m: 'classArteryMultiply' object has no attribute 'calArteryMultiply'"
     ]
    }
   ],
   "source": [
    "obj.calArteryMultiply()"
   ]
  },
  {
   "cell_type": "code",
   "execution_count": 21,
   "metadata": {},
   "outputs": [
    {
     "name": "stdout",
     "output_type": "stream",
     "text": [
      "Data Artery Clustered \n",
      " [[2.800e-01 2.620e+01 7.080e+00 ... 4.328e+01 9.000e+01 1.000e+00]\n",
      " [3.300e-01 0.000e+00 1.030e+00 ... 1.630e+00 8.000e+01 0.000e+00]\n",
      " [3.300e-01 0.000e+00 2.000e-02 ... 8.200e-01 8.000e+01 0.000e+00]\n",
      " ...\n",
      " [3.500e-01 2.000e-01 6.000e-01 ... 1.070e+00 8.000e+01 1.000e+00]\n",
      " [3.500e-01 9.000e-01 1.570e+00 ... 3.170e+00 8.000e+01 1.000e+00]\n",
      " [0.000e+00 2.436e+00 2.500e+00 ... 5.436e+00 7.000e+01 1.000e+00]] \n",
      "\n",
      "Data Artery Score \n",
      " [[2 4 2 ... 2 5 1]\n",
      " [2 1 1 ... 1 4 2]\n",
      " [2 1 1 ... 1 4 2]\n",
      " ...\n",
      " [2 1 1 ... 1 4 1]\n",
      " [2 1 1 ... 1 4 1]\n",
      " [1 1 1 ... 2 4 1]] \n",
      "\n"
     ]
    }
   ],
   "source": [
    "obj.output()"
   ]
  },
  {
   "cell_type": "code",
   "execution_count": 22,
   "metadata": {},
   "outputs": [
    {
     "ename": "AttributeError",
     "evalue": "'classArteryMultiply' object has no attribute 'calArteryMultiply'",
     "output_type": "error",
     "traceback": [
      "\u001b[1;31m---------------------------------------------------------------------------\u001b[0m",
      "\u001b[1;31mAttributeError\u001b[0m                            Traceback (most recent call last)",
      "\u001b[1;32m<ipython-input-22-77ba3cfd730a>\u001b[0m in \u001b[0;36m<module>\u001b[1;34m\u001b[0m\n\u001b[1;32m----> 1\u001b[1;33m \u001b[0mobj\u001b[0m\u001b[1;33m.\u001b[0m\u001b[0mcalArteryMultiply\u001b[0m\u001b[1;33m(\u001b[0m\u001b[1;33m)\u001b[0m\u001b[1;33m\u001b[0m\u001b[1;33m\u001b[0m\u001b[0m\n\u001b[0m",
      "\u001b[1;31mAttributeError\u001b[0m: 'classArteryMultiply' object has no attribute 'calArteryMultiply'"
     ]
    }
   ],
   "source": [
    "obj.calArteryMultiply()"
   ]
  },
  {
   "cell_type": "code",
   "execution_count": 23,
   "metadata": {},
   "outputs": [],
   "source": [
    "multi"
   ]
  },
  {
   "cell_type": "code",
   "execution_count": 24,
   "metadata": {},
   "outputs": [
    {
     "name": "stdout",
     "output_type": "stream",
     "text": [
      "None\n"
     ]
    }
   ],
   "source": [
    "print(multi)"
   ]
  },
  {
   "cell_type": "code",
   "execution_count": null,
   "metadata": {},
   "outputs": [],
   "source": []
  },
  {
   "cell_type": "code",
   "execution_count": 27,
   "metadata": {},
   "outputs": [
    {
     "name": "stdout",
     "output_type": "stream",
     "text": [
      "Data Artery Clustered \n",
      " [[2.800e-01 2.620e+01 7.080e+00 ... 4.328e+01 9.000e+01 1.000e+00]\n",
      " [3.300e-01 0.000e+00 1.030e+00 ... 1.630e+00 8.000e+01 0.000e+00]\n",
      " [3.300e-01 0.000e+00 2.000e-02 ... 8.200e-01 8.000e+01 0.000e+00]\n",
      " ...\n",
      " [3.500e-01 2.000e-01 6.000e-01 ... 1.070e+00 8.000e+01 1.000e+00]\n",
      " [3.500e-01 9.000e-01 1.570e+00 ... 3.170e+00 8.000e+01 1.000e+00]\n",
      " [0.000e+00 2.436e+00 2.500e+00 ... 5.436e+00 7.000e+01 1.000e+00]] \n",
      "\n",
      "Data Artery Score \n",
      " [[2 4 2 ... 2 5 1]\n",
      " [2 1 1 ... 1 4 2]\n",
      " [2 1 1 ... 1 4 2]\n",
      " ...\n",
      " [2 1 1 ... 1 4 1]\n",
      " [2 1 1 ... 1 4 1]\n",
      " [1 1 1 ... 2 4 1]] \n",
      "\n",
      "\n"
     ]
    }
   ],
   "source": [
    "ob.output()"
   ]
  },
  {
   "cell_type": "code",
   "execution_count": 28,
   "metadata": {},
   "outputs": [
    {
     "ename": "AttributeError",
     "evalue": "'classMultiply' object has no attribute 'calMultiply'",
     "output_type": "error",
     "traceback": [
      "\u001b[1;31m---------------------------------------------------------------------------\u001b[0m",
      "\u001b[1;31mAttributeError\u001b[0m                            Traceback (most recent call last)",
      "\u001b[1;32m<ipython-input-28-fa30277950ce>\u001b[0m in \u001b[0;36m<module>\u001b[1;34m\u001b[0m\n\u001b[1;32m----> 1\u001b[1;33m \u001b[0mob\u001b[0m\u001b[1;33m.\u001b[0m\u001b[0mcalMultiply\u001b[0m\u001b[1;33m(\u001b[0m\u001b[1;33m)\u001b[0m\u001b[1;33m\u001b[0m\u001b[1;33m\u001b[0m\u001b[0m\n\u001b[0m",
      "\u001b[1;31mAttributeError\u001b[0m: 'classMultiply' object has no attribute 'calMultiply'"
     ]
    }
   ],
   "source": [
    "ob.calMultiply()"
   ]
  },
  {
   "cell_type": "code",
   "execution_count": 31,
   "metadata": {},
   "outputs": [
    {
     "name": "stdout",
     "output_type": "stream",
     "text": [
      "Data Artery Clustered \n",
      " [[2.800e-01 2.620e+01 7.080e+00 ... 4.328e+01 9.000e+01 1.000e+00]\n",
      " [3.300e-01 0.000e+00 1.030e+00 ... 1.630e+00 8.000e+01 0.000e+00]\n",
      " [3.300e-01 0.000e+00 2.000e-02 ... 8.200e-01 8.000e+01 0.000e+00]\n",
      " ...\n",
      " [3.500e-01 2.000e-01 6.000e-01 ... 1.070e+00 8.000e+01 1.000e+00]\n",
      " [3.500e-01 9.000e-01 1.570e+00 ... 3.170e+00 8.000e+01 1.000e+00]\n",
      " [0.000e+00 2.436e+00 2.500e+00 ... 5.436e+00 7.000e+01 1.000e+00]] \n",
      "\n",
      "Data Artery Score \n",
      " [[2 4 2 ... 2 5 1]\n",
      " [2 1 1 ... 1 4 2]\n",
      " [2 1 1 ... 1 4 2]\n",
      " ...\n",
      " [2 1 1 ... 1 4 1]\n",
      " [2 1 1 ... 1 4 1]\n",
      " [1 1 1 ... 2 4 1]] \n",
      "\n",
      "\n"
     ]
    }
   ],
   "source": [
    "run second.py"
   ]
  },
  {
   "cell_type": "code",
   "execution_count": 36,
   "metadata": {},
   "outputs": [
    {
     "name": "stdout",
     "output_type": "stream",
     "text": [
      "Data Artery Clustered \n",
      " [[2.800e-01 2.620e+01 7.080e+00 ... 4.328e+01 9.000e+01 1.000e+00]\n",
      " [3.300e-01 0.000e+00 1.030e+00 ... 1.630e+00 8.000e+01 0.000e+00]\n",
      " [3.300e-01 0.000e+00 2.000e-02 ... 8.200e-01 8.000e+01 0.000e+00]\n",
      " ...\n",
      " [3.500e-01 2.000e-01 6.000e-01 ... 1.070e+00 8.000e+01 1.000e+00]\n",
      " [3.500e-01 9.000e-01 1.570e+00 ... 3.170e+00 8.000e+01 1.000e+00]\n",
      " [0.000e+00 2.436e+00 2.500e+00 ... 5.436e+00 7.000e+01 1.000e+00]] \n",
      "\n",
      "Data Artery Score \n",
      " [[2 4 2 ... 2 5 1]\n",
      " [2 1 1 ... 1 4 2]\n",
      " [2 1 1 ... 1 4 2]\n",
      " ...\n",
      " [2 1 1 ... 1 4 1]\n",
      " [2 1 1 ... 1 4 1]\n",
      " [1 1 1 ... 2 4 1]] \n",
      "\n",
      "\n"
     ]
    }
   ],
   "source": [
    "ob=classMultiply()"
   ]
  },
  {
   "cell_type": "code",
   "execution_count": 38,
   "metadata": {},
   "outputs": [
    {
     "name": "stdout",
     "output_type": "stream",
     "text": [
      "[[5.6000e-01 1.0480e+02 1.4160e+01 ... 8.6560e+01 4.5000e+02 1.0000e+00]\n",
      " [6.6000e-01 0.0000e+00 1.0300e+00 ... 1.6300e+00 3.2000e+02 0.0000e+00]\n",
      " [6.6000e-01 0.0000e+00 2.0000e-02 ... 8.2000e-01 3.2000e+02 0.0000e+00]\n",
      " ...\n",
      " [7.0000e-01 2.0000e-01 6.0000e-01 ... 1.0700e+00 3.2000e+02 1.0000e+00]\n",
      " [7.0000e-01 9.0000e-01 1.5700e+00 ... 3.1700e+00 3.2000e+02 1.0000e+00]\n",
      " [0.0000e+00 2.4360e+00 2.5000e+00 ... 1.0872e+01 2.8000e+02 1.0000e+00]]\n"
     ]
    }
   ],
   "source": [
    "ob.cal()"
   ]
  },
  {
   "cell_type": "code",
   "execution_count": 39,
   "metadata": {},
   "outputs": [
    {
     "name": "stdout",
     "output_type": "stream",
     "text": [
      "[[5.6000e-01 1.0480e+02 1.4160e+01 ... 8.6560e+01 4.5000e+02 1.0000e+00]\n",
      " [6.6000e-01 0.0000e+00 1.0300e+00 ... 1.6300e+00 3.2000e+02 0.0000e+00]\n",
      " [6.6000e-01 0.0000e+00 2.0000e-02 ... 8.2000e-01 3.2000e+02 0.0000e+00]\n",
      " ...\n",
      " [7.0000e-01 2.0000e-01 6.0000e-01 ... 1.0700e+00 3.2000e+02 1.0000e+00]\n",
      " [7.0000e-01 9.0000e-01 1.5700e+00 ... 3.1700e+00 3.2000e+02 1.0000e+00]\n",
      " [0.0000e+00 2.4360e+00 2.5000e+00 ... 1.0872e+01 2.8000e+02 1.0000e+00]]\n"
     ]
    }
   ],
   "source": [
    "sa=ob.cal()"
   ]
  },
  {
   "cell_type": "code",
   "execution_count": null,
   "metadata": {},
   "outputs": [],
   "source": []
  }
 ],
 "metadata": {
  "kernelspec": {
   "display_name": "Python 3",
   "language": "python",
   "name": "python3"
  },
  "language_info": {
   "codemirror_mode": {
    "name": "ipython",
    "version": 3
   },
   "file_extension": ".py",
   "mimetype": "text/x-python",
   "name": "python",
   "nbconvert_exporter": "python",
   "pygments_lexer": "ipython3",
   "version": "3.8.5"
  }
 },
 "nbformat": 4,
 "nbformat_minor": 4
}
